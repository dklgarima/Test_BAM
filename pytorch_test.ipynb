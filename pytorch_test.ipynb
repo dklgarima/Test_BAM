{
 "cells": [
  {
   "cell_type": "code",
   "execution_count": 1,
   "metadata": {},
   "outputs": [
    {
     "data": {
      "text/plain": [
       "'\\nnormalization using cpu takes a long time . \\nthis function is better be translated to GPU . \\nusing pytorch , arrays can be replaced by tensors which could then be processed on GPU \\n\\n\\n'"
      ]
     },
     "execution_count": 1,
     "metadata": {},
     "output_type": "execute_result"
    }
   ],
   "source": [
    "\"\"\"\n",
    "normalization using cpu takes a long time . \n",
    "this function is better be translated to GPU . \n",
    "using pytorch , arrays can be replaced by tensors which could then be processed on GPU \n",
    "\n",
    "\n",
    "\"\"\"\n",
    "\n"
   ]
  },
  {
   "cell_type": "code",
   "execution_count": 4,
   "metadata": {},
   "outputs": [],
   "source": [
    "import matplotlib.pyplot as plt \n",
    "import torch\n"
   ]
  },
  {
   "cell_type": "code",
   "execution_count": 2,
   "metadata": {},
   "outputs": [],
   "source": [
    "import numpy as np\n",
    "\n",
    "def normalization_cpu (self,FFs_vol,Sino_vol ):\n",
    "\n",
    "        # input : \n",
    "        # FFs volume\n",
    "        # Sinogram Volume\n",
    "        DarkFieldValue = 100\n",
    "        backIlluminationValue = 0\n",
    "        FFmean_vol = np.mean(FFs_vol, axis=0)\n",
    "\n",
    "        Norm_vol = np.divide(Sino_vol - DarkFieldValue, FFmean_vol - DarkFieldValue - backIlluminationValue)\n",
    "        \n",
    "        return Norm_vol"
   ]
  },
  {
   "cell_type": "code",
   "execution_count": 2,
   "metadata": {},
   "outputs": [],
   "source": []
  },
  {
   "cell_type": "code",
   "execution_count": 5,
   "metadata": {},
   "outputs": [],
   "source": [
    "# get an array as image : \n",
    "\n",
    "def rand_rectangel(n):\n",
    "    im =np.random.rand(n,n)*255\n",
    "    im = im.astype(np.uint8)\n",
    "    im[(n//2)-n//4:(n//2)+n//4,(n//2)-n//4:(n//2)+n//4]= 0 # a self scaling rectangle \n",
    "    \n",
    "    return im\n",
    "\n",
    "img = rand_rectangel(500)\n",
    "img2 = rand_rectangel(500)\n",
    "#plt.imshow(img)"
   ]
  },
  {
   "cell_type": "code",
   "execution_count": 60,
   "metadata": {},
   "outputs": [],
   "source": [
    "def numpy_devide (img, img2):\n",
    "    return np.divide(img,img2)\n",
    "\n",
    "def torch_devie(img , img2):\n",
    "    cuda1 = torch.device('cuda')\n",
    "\t\n",
    "    t_img = torch.from_numpy(img).cuda(cuda1)\n",
    "    t_img2 = torch.from_numpy(img2).cuda(cuda1)\n",
    "    return torch.divide(t_img,t_img2)\n",
    "    \n"
   ]
  },
  {
   "cell_type": "code",
   "execution_count": 12,
   "metadata": {},
   "outputs": [],
   "source": [
    "device = torch.device(\"cuda\" if torch.cuda.is_available() else \"cpu\")"
   ]
  },
  {
   "cell_type": "code",
   "execution_count": 32,
   "metadata": {},
   "outputs": [
    {
     "data": {
      "text/plain": [
       "tensor([[1., 1., 1.,  ..., 1., 1., 1.],\n",
       "        [1., 1., 1.,  ..., 1., 1., 1.],\n",
       "        [1., 1., 1.,  ..., 1., 1., 1.],\n",
       "        ...,\n",
       "        [1., 1., 1.,  ..., 1., 1., 1.],\n",
       "        [1., 1., 1.,  ..., 1., 1., 1.],\n",
       "        [1., 1., 1.,  ..., 1., 1., 1.]])"
      ]
     },
     "execution_count": 32,
     "metadata": {},
     "output_type": "execute_result"
    }
   ],
   "source": [
    "t_img = torch.from_numpy(img) # trying out division and subtracting \n",
    "t_img/t_img "
   ]
  },
  {
   "cell_type": "code",
   "execution_count": 34,
   "metadata": {},
   "outputs": [
    {
     "data": {
      "text/plain": [
       "array([[ 66, 135, 228, ..., 187,  93,   3],\n",
       "       [ 90,  22,  32, ...,  64,  41,  21],\n",
       "       [ 32,  60,  38, ..., 139, 209,  26],\n",
       "       ...,\n",
       "       [116, 198,  77, ...,  96, 180, 161],\n",
       "       [223, 179,  48, ..., 234, 110, 125],\n",
       "       [ 18,  59,  16, ..., 116,  88, 238]], dtype=uint8)"
      ]
     },
     "execution_count": 34,
     "metadata": {},
     "output_type": "execute_result"
    }
   ],
   "source": [
    "np_arr = t_img.cpu().detach().numpy() # converting back to numpy array\n",
    "np_arr"
   ]
  },
  {
   "cell_type": "code",
   "execution_count": null,
   "metadata": {},
   "outputs": [],
   "source": []
  },
  {
   "cell_type": "code",
   "execution_count": 14,
   "metadata": {},
   "outputs": [
    {
     "name": "stderr",
     "output_type": "stream",
     "text": [
      "C:\\Users\\sdayani\\AppData\\Local\\Temp\\5/ipykernel_21448/2677505668.py:2: RuntimeWarning: divide by zero encountered in true_divide\n",
      "  return np.divide(img,img2)\n",
      "C:\\Users\\sdayani\\AppData\\Local\\Temp\\5/ipykernel_21448/2677505668.py:2: RuntimeWarning: invalid value encountered in true_divide\n",
      "  return np.divide(img,img2)\n"
     ]
    },
    {
     "name": "stdout",
     "output_type": "stream",
     "text": [
      "2.72 ms ± 194 µs per loop (mean ± std. dev. of 7 runs, 100 loops each)\n"
     ]
    }
   ],
   "source": [
    "%timeit numpy_devide(img,img2)\n"
   ]
  },
  {
   "cell_type": "code",
   "execution_count": 16,
   "metadata": {},
   "outputs": [
    {
     "name": "stdout",
     "output_type": "stream",
     "text": [
      "186 µs ± 41.2 µs per loop (mean ± std. dev. of 7 runs, 1000 loops each)\n"
     ]
    }
   ],
   "source": [
    "\n",
    "%timeit torch_devie(img,img2)"
   ]
  },
  {
   "cell_type": "code",
   "execution_count": 19,
   "metadata": {},
   "outputs": [
    {
     "data": {
      "text/plain": [
       "device(type='cuda')"
      ]
     },
     "execution_count": 19,
     "metadata": {},
     "output_type": "execute_result"
    }
   ],
   "source": [
    "device"
   ]
  },
  {
   "cell_type": "code",
   "execution_count": 61,
   "metadata": {},
   "outputs": [
    {
     "name": "stderr",
     "output_type": "stream",
     "text": [
      "C:\\Users\\sdayani\\AppData\\Local\\Temp\\5/ipykernel_21448/3882225483.py:2: RuntimeWarning: invalid value encountered in true_divide\n",
      "  return np.divide(img,img2)\n"
     ]
    },
    {
     "name": "stdout",
     "output_type": "stream",
     "text": [
      "2.62 ms ± 230 µs per loop (mean ± std. dev. of 7 runs, 100 loops each)\n",
      "459 µs ± 16.7 µs per loop (mean ± std. dev. of 7 runs, 1000 loops each)\n",
      "2.65 ms ± 126 µs per loop (mean ± std. dev. of 7 runs, 100 loops each)\n",
      "445 µs ± 13.1 µs per loop (mean ± std. dev. of 7 runs, 1000 loops each)\n"
     ]
    },
    {
     "data": {
      "text/plain": [
       "Text(0, 0.5, 'Average Execution Time (seconds)')"
      ]
     },
     "execution_count": 61,
     "metadata": {},
     "output_type": "execute_result"
    },
    {
     "data": {
      "image/png": "[encoded data removed]",
      "text/plain": [
       "<Figure size 864x576 with 1 Axes>"
      ]
     },
     "metadata": {
      "needs_background": "light"
     },
     "output_type": "display_data"
    }
   ],
   "source": [
    "images = []\n",
    "for n in  [100,1000]:\n",
    "    im = rand_rectangel(n)\n",
    "    images.append(im)\n",
    "    \n",
    "    \n",
    "r_numpy=[]\n",
    "r_torch= []\n",
    "\n",
    "for image in images:\n",
    "    r_ = %timeit -o numpy_devide(img,img)  # this saves the result of timeit into the variable r_\n",
    "    r_numpy.append(r_.average)\n",
    "\n",
    "    r_ = %timeit -o torch_devie(img,img)\n",
    "    r_torch.append(r_.average)\n",
    "\n",
    "\n",
    "def plot_result ( ax, result , legend):\n",
    "    x = [100,1000]\n",
    "    ax.plot(x,result, label = legend )\n",
    "\n",
    "\n",
    "fig,ax = plt.subplots(1,1, figsize = (12,8))\n",
    "\n",
    "plot_result(ax, r_numpy , 'numpy')\n",
    "plot_result(ax, r_torch , 'torch')\n",
    "#plot_result(ax, r_scipy , 'Scipy')\n",
    "ax.legend()\n",
    "ax.set_xlabel('Image Size (px)')\n",
    "ax.set_ylabel('Average Execution Time (seconds)')"
   ]
  },
  {
   "cell_type": "code",
   "execution_count": 37,
   "metadata": {},
   "outputs": [
    {
     "ename": "TypeError",
     "evalue": "can't convert np.ndarray of type numpy.uint16. The only supported types are: float64, float32, float16, complex64, complex128, int64, int32, int16, int8, uint8, and bool.",
     "output_type": "error",
     "traceback": [
      "\u001b[1;31m---------------------------------------------------------------------------\u001b[0m",
      "\u001b[1;31mTypeError\u001b[0m                                 Traceback (most recent call last)",
      "\u001b[1;32m~\\AppData\\Local\\Temp\\5/ipykernel_21448/3355926023.py\u001b[0m in \u001b[0;36m<module>\u001b[1;34m\u001b[0m\n\u001b[0;32m      3\u001b[0m \u001b[1;33m\u001b[0m\u001b[0m\n\u001b[0;32m      4\u001b[0m \u001b[0mnp_uint16\u001b[0m \u001b[1;33m=\u001b[0m \u001b[0mnp\u001b[0m\u001b[1;33m.\u001b[0m\u001b[0marray\u001b[0m\u001b[1;33m(\u001b[0m\u001b[1;33m[\u001b[0m\u001b[1;36m0\u001b[0m\u001b[1;33m,\u001b[0m\u001b[1;36m5\u001b[0m\u001b[1;33m,\u001b[0m\u001b[1;36m65000\u001b[0m\u001b[1;33m,\u001b[0m\u001b[1;36m5\u001b[0m\u001b[1;33m,\u001b[0m\u001b[1;36m20\u001b[0m\u001b[1;33m,\u001b[0m\u001b[1;36m1\u001b[0m\u001b[1;33m]\u001b[0m\u001b[1;33m,\u001b[0m\u001b[0mdtype\u001b[0m\u001b[1;33m=\u001b[0m\u001b[0mnp\u001b[0m\u001b[1;33m.\u001b[0m\u001b[0muint16\u001b[0m\u001b[1;33m)\u001b[0m\u001b[1;33m\u001b[0m\u001b[1;33m\u001b[0m\u001b[0m\n\u001b[1;32m----> 5\u001b[1;33m \u001b[0mtorch\u001b[0m\u001b[1;33m.\u001b[0m\u001b[0mfrom_numpy\u001b[0m\u001b[1;33m(\u001b[0m\u001b[0mnp_uint16\u001b[0m\u001b[1;33m)\u001b[0m\u001b[1;33m\u001b[0m\u001b[1;33m\u001b[0m\u001b[0m\n\u001b[0m",
      "\u001b[1;31mTypeError\u001b[0m: can't convert np.ndarray of type numpy.uint16. The only supported types are: float64, float32, float16, complex64, complex128, int64, int32, int16, int8, uint8, and bool."
     ]
    }
   ],
   "source": [
    "#convert uint16 to int32 for pytorch \n",
    "#can't convert np.ndarray of type numpy.uint16. The only supported types are: float64, float32, float16, complex64, complex128, int64, int32, int16, int8, uint8, and bool.\n",
    "\n",
    "np_uint16 = np.array([0,5,65000,5,20,1],dtype=np.uint16)\n",
    "torch.from_numpy(np_uint16)"
   ]
  },
  {
   "cell_type": "code",
   "execution_count": 54,
   "metadata": {},
   "outputs": [],
   "source": [
    "\n",
    "np_uint16 = np.array([0,5,65000,5,20,1],dtype=np.uint16)\n",
    "torch_float32 = torch.from_numpy(np_uint16.astype(np.float16))"
   ]
  },
  {
   "cell_type": "code",
   "execution_count": 55,
   "metadata": {},
   "outputs": [
    {
     "data": {
      "text/plain": [
       "tensor([0.0000e+00, 5.0000e+00, 6.4992e+04, 5.0000e+00, 2.0000e+01, 1.0000e+00],\n",
       "       dtype=torch.float16)"
      ]
     },
     "execution_count": 55,
     "metadata": {},
     "output_type": "execute_result"
    }
   ],
   "source": [
    "torch_float32"
   ]
  },
  {
   "cell_type": "code",
   "execution_count": 56,
   "metadata": {},
   "outputs": [
    {
     "data": {
      "text/plain": [
       "10838.5"
      ]
     },
     "execution_count": 56,
     "metadata": {},
     "output_type": "execute_result"
    }
   ],
   "source": [
    "np_uint16.mean()"
   ]
  },
  {
   "cell_type": "code",
   "execution_count": 57,
   "metadata": {},
   "outputs": [
    {
     "data": {
      "text/plain": [
       "array(10840, dtype=uint16)"
      ]
     },
     "execution_count": 57,
     "metadata": {},
     "output_type": "execute_result"
    }
   ],
   "source": [
    "torch_float32.mean().cpu().detach().numpy().astype(np.uint16)"
   ]
  },
  {
   "cell_type": "code",
   "execution_count": 42,
   "metadata": {},
   "outputs": [],
   "source": [
    "arr = torch_int32.cpu().detach().numpy()"
   ]
  },
  {
   "cell_type": "code",
   "execution_count": 46,
   "metadata": {},
   "outputs": [
    {
     "ename": "RuntimeError",
     "evalue": "mean(): could not infer output dtype. Input dtype must be either a floating point or complex dtype. Got: Int",
     "output_type": "error",
     "traceback": [
      "\u001b[1;31m---------------------------------------------------------------------------\u001b[0m",
      "\u001b[1;31mRuntimeError\u001b[0m                              Traceback (most recent call last)",
      "\u001b[1;32m~\\AppData\\Local\\Temp\\5/ipykernel_21448/2446949220.py\u001b[0m in \u001b[0;36m<module>\u001b[1;34m\u001b[0m\n\u001b[1;32m----> 1\u001b[1;33m \u001b[0mtorch_int32\u001b[0m\u001b[1;33m.\u001b[0m\u001b[0mmean\u001b[0m\u001b[1;33m(\u001b[0m\u001b[1;33m)\u001b[0m\u001b[1;33m\u001b[0m\u001b[1;33m\u001b[0m\u001b[0m\n\u001b[0m",
      "\u001b[1;31mRuntimeError\u001b[0m: mean(): could not infer output dtype. Input dtype must be either a floating point or complex dtype. Got: Int"
     ]
    }
   ],
   "source": [
    "torch_int32.mean()"
   ]
  },
  {
   "cell_type": "code",
   "execution_count": 45,
   "metadata": {},
   "outputs": [
    {
     "name": "stdout",
     "output_type": "stream",
     "text": [
      "GPU Memory usage:\n",
      "\tTotal memory: 8191.5625 MB\n",
      "\tMemory reserved by PyTorch: 0.0 MB\n",
      "\tMemory allocated by PyTorch: 0.0 MB\n",
      "\tFree allocated memory : 0.0 MB\n",
      "\tTotal free memory: 8191.5625 MB\n"
     ]
    }
   ],
   "source": [
    "t = torch.cuda.get_device_properties(0).total_memory\n",
    "r = torch.cuda.memory_reserved(0)\n",
    "a = torch.cuda.memory_allocated(0)\n",
    "f = r-a  # free inside reserved\n",
    "print('GPU Memory usage:')\n",
    "print('\\tTotal memory: '+str(t/2**20)+' MB')\n",
    "print('\\tMemory reserved by PyTorch: '+str(r/2**20)+' MB')\n",
    "print('\\tMemory allocated by PyTorch: '+str(a/2**20)+' MB')\n",
    "print('\\tFree allocated memory : '+str(f/2**20)+' MB')\n",
    "print('\\tTotal free memory: '+str((t-a)/2**20)+' MB')\n"
   ]
  },
  {
   "cell_type": "code",
   "execution_count": 63,
   "metadata": {},
   "outputs": [
    {
     "data": {
      "text/html": [
       "<div>\n",
       "<style scoped>\n",
       "    .dataframe tbody tr th:only-of-type {\n",
       "        vertical-align: middle;\n",
       "    }\n",
       "\n",
       "    .dataframe tbody tr th {\n",
       "        vertical-align: top;\n",
       "    }\n",
       "\n",
       "    .dataframe thead th {\n",
       "        text-align: right;\n",
       "    }\n",
       "</style>\n",
       "<table border=\"1\" class=\"dataframe\">\n",
       "  <thead>\n",
       "    <tr style=\"text-align: right;\">\n",
       "      <th></th>\n",
       "      <th>0</th>\n",
       "      <th>1</th>\n",
       "      <th>2</th>\n",
       "    </tr>\n",
       "  </thead>\n",
       "  <tbody>\n",
       "    <tr>\n",
       "      <th>0</th>\n",
       "      <td>1</td>\n",
       "      <td>2.0</td>\n",
       "      <td>3.0</td>\n",
       "    </tr>\n",
       "    <tr>\n",
       "      <th>1</th>\n",
       "      <td>2</td>\n",
       "      <td>NaN</td>\n",
       "      <td>NaN</td>\n",
       "    </tr>\n",
       "  </tbody>\n",
       "</table>\n",
       "</div>"
      ],
      "text/plain": [
       "   0    1    2\n",
       "0  1  2.0  3.0\n",
       "1  2  NaN  NaN"
      ]
     },
     "execution_count": 63,
     "metadata": {},
     "output_type": "execute_result"
    }
   ],
   "source": [
    "import pandas as pd \n",
    "\n",
    "d = [[1,2,3], [2]]\n",
    "pd.DataFrame(d)"
   ]
  },
  {
   "cell_type": "code",
   "execution_count": null,
   "metadata": {},
   "outputs": [],
   "source": []
  }
 ],
 "metadata": {
  "kernelspec": {
   "display_name": "Python 3.9.6 ('base')",
   "language": "python",
   "name": "python3"
  },
  "language_info": {
   "codemirror_mode": {
    "name": "ipython",
    "version": 3
   },
   "file_extension": ".py",
   "mimetype": "text/x-python",
   "name": "python",
   "nbconvert_exporter": "python",
   "pygments_lexer": "ipython3",
   "version": "3.9.6"
  },
  "orig_nbformat": 4,
  "vscode": {
   "interpreter": {
    "hash": "19d1d53a962d236aa061289c2ac16dc8e6d9648c89fe79f459ae9a3493bc67b4"
   }
  }
 },
 "nbformat": 4,
 "nbformat_minor": 2
}
